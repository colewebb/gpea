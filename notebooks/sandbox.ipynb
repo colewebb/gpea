{
 "cells": [
  {
   "cell_type": "code",
   "execution_count": 24,
   "metadata": {},
   "outputs": [],
   "source": [
    "import os\n",
    "import cv2 as cv\n",
    "from matplotlib import pyplot\n",
    "import numpy as np\n",
    "\n",
    "%matplotlib inline\n",
    "pyplot.rcParams['figure.figsize'] = [24, 10]\n",
    "\n",
    "os.chdir(\"F:/Pi13C/to analyze\")\n",
    "\n",
    "fileList = os.listdir(\"./\")\n",
    "fileList = [f for f in fileList if not f.endswith(\"TRUTH.png\")]\n",
    "fileList = [f for f in fileList if not f.endswith(\"ANALYZED.png\")]\n",
    "fileList = [f[:-4] for f in fileList]\n",
    "\n",
    "originalImages = [cv.imread(f + \".png\") for f in fileList]\n",
    "analyzedImages = [cv.threshold(cv.imread(f + \"_ANALYZED.png\"), 0, 255, cv.THRESH_BINARY)[1] for f in fileList]\n",
    "truthImages = [cv.threshold(cv.imread(f + \"_TRUTH.png\"), 0, 255, cv.THRESH_BINARY)[1] for f in fileList]\n",
    "\n",
    "assert len(originalImages) == len(analyzedImages)\n",
    "assert len(analyzedImages) == len(truthImages)"
   ]
  },
  {
   "cell_type": "code",
   "execution_count": 31,
   "metadata": {},
   "outputs": [
    {
     "name": "stdout",
     "output_type": "stream",
     "text": [
      "mean true positive ratio: 0.9808395058534464\n"
     ]
    }
   ],
   "source": [
    "truePositiveCounts = [float(np.sum(i/255)) for i in truthImages]\n",
    "positiveCounts = [float(np.sum(i/255)) for i in analyzedImages]\n",
    "truePositiveRatios = [truePositiveCounts[i]/positiveCounts[i] for i in range(len(truePositiveCounts))]\n",
    "print(\"mean true positive ratio: \" + str(np.sum(truePositiveRatios)/len(truePositiveRatios)))"
   ]
  },
  {
   "cell_type": "code",
   "execution_count": null,
   "metadata": {},
   "outputs": [],
   "source": []
  }
 ],
 "metadata": {
  "interpreter": {
   "hash": "63fd5069d213b44bf678585dea6b12cceca9941eaf7f819626cde1f2670de90d"
  },
  "kernelspec": {
   "display_name": "Python 3.9.6 64-bit",
   "name": "python3"
  },
  "language_info": {
   "codemirror_mode": {
    "name": "ipython",
    "version": 3
   },
   "file_extension": ".py",
   "mimetype": "text/x-python",
   "name": "python",
   "nbconvert_exporter": "python",
   "pygments_lexer": "ipython3",
   "version": "3.10.2"
  },
  "orig_nbformat": 4
 },
 "nbformat": 4,
 "nbformat_minor": 2
}
