{
 "cells": [
  {
   "cell_type": "code",
   "execution_count": 41,
   "metadata": {},
   "outputs": [],
   "source": [
    "import os\n",
    "import cv2 as cv\n",
    "from matplotlib import pyplot as plt\n",
    "import numpy as np\n",
    "\n",
    "%matplotlib inline\n",
    "plt.rcParams['figure.figsize'] = [24, 10]\n",
    "\n",
    "os.chdir(\"F:/Pi13C/to analyze\")\n",
    "\n",
    "fileList = os.listdir(\"./\")\n",
    "fileList = [f for f in fileList if not f.endswith(\"TRUTH.png\")]\n",
    "fileList = [f for f in fileList if not f.endswith(\"ANALYZED.png\")]\n",
    "fileList = [f[:-4] for f in fileList]\n",
    "\n",
    "originalImages = [cv.imread(f + \".png\") for f in fileList]\n",
    "analyzedImages = [cv.threshold(cv.imread(f + \"_ANALYZED.png\"), 0, 255, cv.THRESH_BINARY)[1] for f in fileList]\n",
    "truthImages = [cv.threshold(cv.imread(f + \"_TRUTH.png\"), 0, 255, cv.THRESH_BINARY)[1] for f in fileList]\n",
    "\n",
    "for i in range(len(analyzedImages)):\n",
    "    if np.shape(analyzedImages[i])[0] == 2463:\n",
    "        analyzedImages[i] = np.append(analyzedImages[i], np.zeros((1, 3280, 3)), axis=0)\n",
    "\n",
    "for i in range(len(truthImages)):\n",
    "    if np.shape(truthImages[i])[0] == 2463:\n",
    "        truthImages[i] = np.append(truthImages[i], np.zeros((1, 3280, 3)), axis=0)\n",
    "\n",
    "assert len(originalImages) == len(analyzedImages)\n",
    "assert len(analyzedImages) == len(truthImages)\n"
   ]
  },
  {
   "cell_type": "code",
   "execution_count": 42,
   "metadata": {},
   "outputs": [
    {
     "name": "stdout",
     "output_type": "stream",
     "text": [
      "mean true positive ratio: 0.9808395058534464\n"
     ]
    }
   ],
   "source": [
    "truePositiveCounts = [float(np.sum(i/255)) for i in truthImages]\n",
    "positiveCounts = [float(np.sum(i/255)) for i in analyzedImages]\n",
    "truePositiveRatios = [truePositiveCounts[i]/positiveCounts[i] for i in range(len(truePositiveCounts))]\n",
    "print(\"mean true positive ratio: \" + str(np.sum(truePositiveRatios)/len(truePositiveRatios)))"
   ]
  },
  {
   "cell_type": "code",
   "execution_count": 43,
   "metadata": {},
   "outputs": [
    {
     "name": "stdout",
     "output_type": "stream",
     "text": [
      "mean false positive ratio: 0.0011894186296211012\n"
     ]
    }
   ],
   "source": [
    "def falsePositiveCount(analyzedImage, truthImage):\n",
    "    analyzedImage = np.array(np.copy(analyzedImage), dtype=bool)\n",
    "    truthImage = np.array(np.copy(truthImage), dtype=bool)\n",
    "    falsePositives = np.array(np.logical_and(analyzedImage, np.logical_not(truthImage)), dtype=np.uint8)\n",
    "    return np.sum(falsePositives)\n",
    "\n",
    "falsePositiveCounts = [falsePositiveCount(analyzedImages[i], truthImages[i]) for i in range(len(truthImages))]\n",
    "negativeCounts = [24245760 - positiveCount for positiveCount in positiveCounts]\n",
    "falsePositiveRatios = [falsePositiveCounts[i]/negativeCounts[i] for i in range(len(falsePositiveCounts))]\n",
    "print(\"mean false positive ratio: \" + str(sum(falsePositiveRatios)/len(falsePositiveRatios)))"
   ]
  },
  {
   "cell_type": "code",
   "execution_count": 44,
   "metadata": {},
   "outputs": [
    {
     "name": "stdout",
     "output_type": "stream",
     "text": [
      "mean jaccard index: 0.9785817635094881\n"
     ]
    }
   ],
   "source": [
    "def intersectOverUnion(image1, image2):\n",
    "    image1 = np.array(np.copy(image1), dtype=bool)\n",
    "    image2 = np.array(np.copy(image2), dtype=bool)\n",
    "    intersect = np.sum(np.logical_and(image1, image2))\n",
    "    union = np.sum(np.logical_or(image1, image2))\n",
    "    return intersect/union\n",
    "\n",
    "jaccardIndex = [intersectOverUnion(analyzedImages[i], truthImages[i]) for i in range(len(analyzedImages))]\n",
    "print(\"mean jaccard index: \" + str(sum(jaccardIndex)/len(jaccardIndex)))"
   ]
  },
  {
   "cell_type": "code",
   "execution_count": 45,
   "metadata": {},
   "outputs": [
    {
     "name": "stdout",
     "output_type": "stream",
     "text": [
      "mean dice coefficients: 0.9839310327044624\n"
     ]
    }
   ],
   "source": [
    "def falseNegativeCount(analyzedImage, truthImage):\n",
    "    analyzedImage = np.array(np.copy(analyzedImage), dtype=bool)\n",
    "    truthImage = np.array(np.copy(truthImage), dtype=bool)\n",
    "    falseNegatives = np.array(np.logical_and(np.logical_not(analyzedImage), truthImage), dtype=np.uint8)\n",
    "    return np.sum(falseNegatives)\n",
    "\n",
    "def diceCoefficient(truePositive, falsePositive, falseNegative):\n",
    "    denominator = 2 * truePositive\n",
    "    numerator = (2 * truePositive) + falsePositive + falseNegative\n",
    "    return denominator/numerator\n",
    "\n",
    "falseNegativeCounts = [falseNegativeCount(analyzedImages[i], truthImages[i]) for i in range(len(truthImages))]\n",
    "\n",
    "diceCoefficients = [diceCoefficient(truePositiveCounts[i], falsePositiveCounts[i], falseNegativeCounts[i]) for i in range(len(truthImages))]\n",
    "print(\"mean dice coefficients: \" + str(sum(diceCoefficients)/len(diceCoefficients)))"
   ]
  },
  {
   "cell_type": "code",
   "execution_count": 46,
   "metadata": {},
   "outputs": [
    {
     "name": "stdout",
     "output_type": "stream",
     "text": [
      "mean area error ratio: 0.07124299266068106\n"
     ]
    }
   ],
   "source": [
    "def areaErrorRatio(truth, measured):\n",
    "    return abs(truth - measured)/truth\n",
    "\n",
    "areaErrorRatios = [areaErrorRatio(truePositiveCounts[i], positiveCounts[i]) for i in range(len(truthImages))]\n",
    "print(\"mean area error ratio: \" + str(sum(areaErrorRatios)/len(areaErrorRatios)))"
   ]
  },
  {
   "cell_type": "code",
   "execution_count": 66,
   "metadata": {},
   "outputs": [
    {
     "data": {
      "text/plain": [
       "(0.0, 2.8058762251178457)"
      ]
     },
     "execution_count": 66,
     "metadata": {},
     "output_type": "execute_result"
    },
    {
     "data": {
      "image/png": "[encoded data removed]",
      "text/plain": [
       "<Figure size 1728x720 with 5 Axes>"
      ]
     },
     "metadata": {
      "needs_background": "light"
     },
     "output_type": "display_data"
    }
   ],
   "source": [
    "overallData = [[truePositiveRatios[i], falsePositiveRatios[i], jaccardIndex[i], diceCoefficients[i], areaErrorRatios[i]] for i in range(len(truePositiveCounts))]\n",
    "plt.subplot(1, 5, 1)\n",
    "plt.boxplot(truePositiveRatios)\n",
    "plt.xlabel(\"True Positive Ratios\")\n",
    "plt.ylim(ymin=0)\n",
    "plt.subplot(1, 5, 2)\n",
    "plt.boxplot(falsePositiveRatios)\n",
    "plt.xlabel(\"False Postive Ratios\")\n",
    "plt.ylim(ymin=0)\n",
    "plt.subplot(1, 5, 3)\n",
    "plt.boxplot(jaccardIndex)\n",
    "plt.xlabel(\"Jaccard Index\")\n",
    "plt.ylim(ymin=0)\n",
    "plt.subplot(1, 5, 4)\n",
    "plt.boxplot(diceCoefficients)\n",
    "plt.xlabel(\"Dice Coefficient\")\n",
    "plt.ylim(ymin=0)\n",
    "plt.subplot(1, 5, 5)\n",
    "plt.boxplot(areaErrorRatios)\n",
    "plt.xlabel(\"Area Error Ratios\")\n",
    "plt.ylim(ymin=0)"
   ]
  }
 ],
 "metadata": {
  "interpreter": {
   "hash": "63fd5069d213b44bf678585dea6b12cceca9941eaf7f819626cde1f2670de90d"
  },
  "kernelspec": {
   "display_name": "Python 3.9.6 64-bit",
   "name": "python3"
  },
  "language_info": {
   "codemirror_mode": {
    "name": "ipython",
    "version": 3
   },
   "file_extension": ".py",
   "mimetype": "text/x-python",
   "name": "python",
   "nbconvert_exporter": "python",
   "pygments_lexer": "ipython3",
   "version": "3.10.2"
  },
  "orig_nbformat": 4
 },
 "nbformat": 4,
 "nbformat_minor": 2
}
