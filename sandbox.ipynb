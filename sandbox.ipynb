{
 "cells": [
  {
   "cell_type": "markdown",
   "source": [
    "# Algorithm 4: Changed Pixels after 24 Hours"
   ],
   "metadata": {}
  },
  {
   "cell_type": "code",
   "execution_count": 1,
   "source": [
    "from PIL import Image\r\n",
    "import numpy as np\r\n",
    "\r\n",
    "def analyze(file):\r\n",
    "    whitePixels = 0\r\n",
    "    for i in file:\r\n",
    "        for j in i:\r\n",
    "            # j[0] += -40\r\n",
    "            # j[1] += 144\r\n",
    "            # j[2] += -3\r\n",
    "            # for m in j:\r\n",
    "            #     if m > 255:\r\n",
    "            #         m = 255\r\n",
    "            #     if m < 0:\r\n",
    "            #         m = 0\r\n",
    "            if (int(j[0]) + int(j[1]) + int(j[2]))/3 > 110:\r\n",
    "                whitePixels += 1\r\n",
    "    return whitePixels\r\n",
    "\r\n",
    "def analyticalPrint(startPixels, endPixels):\r\n",
    "    rgr = np.log(float(endPixels)/startPixels)\r\n",
    "    print(\"RGR: \" + str(rgr * 100)[:6] + \"%\")\r\n",
    "    print(str(startPixels) + \" starting pixels\")\r\n",
    "    print(str(endPixels) + \" ending pixels\")\r\n",
    "    print(str(endPixels - startPixels) + \" delta\")"
   ],
   "outputs": [],
   "metadata": {}
  },
  {
   "cell_type": "code",
   "execution_count": 4,
   "source": [
    "start = np.array(Image.open(\"./14-9 crop color.png\"))\r\n",
    "end = np.array(Image.open(\"./15-9 crop color.png\"))\r\n",
    "\r\n",
    "startWhitePixels = analyze(start)\r\n",
    "endWhitePixels = analyze(end)\r\n",
    "analyticalPrint(startWhitePixels, endWhitePixels)"
   ],
   "outputs": [
    {
     "output_type": "stream",
     "name": "stdout",
     "text": [
      "RGR: 2.7121%\n",
      "736486 starting pixels\n",
      "756734 ending pixels\n",
      "20248 delta\n"
     ]
    }
   ],
   "metadata": {}
  }
 ],
 "metadata": {
  "orig_nbformat": 4,
  "language_info": {
   "name": "python",
   "version": "3.9.5",
   "mimetype": "text/x-python",
   "codemirror_mode": {
    "name": "ipython",
    "version": 3
   },
   "pygments_lexer": "ipython3",
   "nbconvert_exporter": "python",
   "file_extension": ".py"
  },
  "kernelspec": {
   "name": "python3",
   "display_name": "Python 3.9.5 64-bit"
  },
  "interpreter": {
   "hash": "63fd5069d213b44bf678585dea6b12cceca9941eaf7f819626cde1f2670de90d"
  }
 },
 "nbformat": 4,
 "nbformat_minor": 2
}